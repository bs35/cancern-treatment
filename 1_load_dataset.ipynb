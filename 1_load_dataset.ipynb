{
 "cells": [
  {
   "cell_type": "code",
   "execution_count": 1,
   "metadata": {},
   "outputs": [],
   "source": [
    "import cv2\n",
    "import os\n",
    "from tqdm import tqdm\n",
    "import numpy as np"
   ]
  },
  {
   "attachments": {},
   "cell_type": "markdown",
   "metadata": {},
   "source": [
    "# Load & Process Dataset"
   ]
  },
  {
   "cell_type": "code",
   "execution_count": 2,
   "metadata": {},
   "outputs": [
    {
     "name": "stderr",
     "output_type": "stream",
     "text": [
      " 41%|████      | 6000/14754 [35:47<52:12,  2.79it/s]    \n",
      " 98%|█████████▊| 6000/6107 [1:36:21<01:43,  1.04it/s]    \n"
     ]
    }
   ],
   "source": [
    "def Dataset_loader(DIR, RESIZE, sigmaX=10):\n",
    "    IMG = []\n",
    "    read = lambda imname: np.asarray(cv2.cvtColor(cv2.imread(imname), cv2.COLOR_BGR2RGB))\n",
    "    for (counter, IMAGE_NAME) in enumerate(tqdm(os.listdir(DIR))):\n",
    "        PATH = os.path.join(DIR,IMAGE_NAME)\n",
    "        _, ftype = os.path.splitext(PATH)\n",
    "        if ftype == \".JPG\":\n",
    "            # print(\"hello\")\n",
    "            img = read(PATH)\n",
    "           \n",
    "            img = cv2.resize(img, (RESIZE,RESIZE))\n",
    "           \n",
    "            IMG.append(np.array(img))\n",
    "        \n",
    "        # to balance the data\n",
    "        if counter == 6000:\n",
    "            break\n",
    "    return IMG\n",
    "# TODO: @Mumina - replace two locations below with your versions\n",
    "benign = np.array(Dataset_loader(r'C:\\Users\\mi\\images\\benign',224))\n",
    "malignant = np.array(Dataset_loader(r'C:\\Users\\mi\\images\\malignant',224))\n",
    "benign_train, benign_test = np.split(benign, [int(0.67 * len(benign))])\n",
    "malign_train, malign_test = np.split(malignant, [int(0.67 * len(malignant))])"
   ]
  },
  {
   "attachments": {},
   "cell_type": "markdown",
   "metadata": {},
   "source": [
    "# Save Variables Locally\n",
    "(will be used for model training and testing in classification.ipynb)"
   ]
  },
  {
   "cell_type": "code",
   "execution_count": 3,
   "metadata": {},
   "outputs": [],
   "source": [
    "np.save('benign_train', benign_train)\n",
    "np.save('benign_test', benign_test)\n",
    "np.save('malign_train', malign_train)\n",
    "np.save('malign_test', malign_test)"
   ]
  }
 ],
 "metadata": {
  "kernelspec": {
   "display_name": "Python 3",
   "language": "python",
   "name": "python3"
  },
  "language_info": {
   "codemirror_mode": {
    "name": "ipython",
    "version": 3
   },
   "file_extension": ".py",
   "mimetype": "text/x-python",
   "name": "python",
   "nbconvert_exporter": "python",
   "pygments_lexer": "ipython3",
   "version": "3.8.10"
  },
  "orig_nbformat": 4,
  "vscode": {
   "interpreter": {
    "hash": "aee925c4952e98ad5f97fe523c6a92b54e0b113f56b87bf2bb911c9e62e68c2d"
   }
  }
 },
 "nbformat": 4,
 "nbformat_minor": 2
}
