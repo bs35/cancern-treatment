{
 "cells": [
  {
   "cell_type": "code",
   "execution_count": 1,
   "metadata": {},
   "outputs": [],
   "source": [
    "import cv2\n",
    "import os\n",
    "from tqdm import tqdm\n",
    "import numpy as np"
   ]
  },
  {
   "attachments": {},
   "cell_type": "markdown",
   "metadata": {},
   "source": [
    "# Load & Process Dataset"
   ]
  },
  {
   "cell_type": "code",
   "execution_count": 2,
   "metadata": {},
   "outputs": [
    {
     "ename": "FileNotFoundError",
     "evalue": "[WinError 3] Системе не удается найти указанный путь: 'C:\\\\Users\\\\mi\\\\images\\\\benign'",
     "output_type": "error",
     "traceback": [
      "\u001b[1;31m---------------------------------------------------------------------------\u001b[0m",
      "\u001b[1;31mFileNotFoundError\u001b[0m                         Traceback (most recent call last)",
      "Cell \u001b[1;32mIn[2], line 19\u001b[0m\n\u001b[0;32m     17\u001b[0m             \u001b[39mbreak\u001b[39;00m\n\u001b[0;32m     18\u001b[0m     \u001b[39mreturn\u001b[39;00m IMG\n\u001b[1;32m---> 19\u001b[0m benign \u001b[39m=\u001b[39m np\u001b[39m.\u001b[39marray(Dataset_loader(\u001b[39mr\u001b[39;49m\u001b[39m'\u001b[39;49m\u001b[39mC:\u001b[39;49m\u001b[39m\\\u001b[39;49m\u001b[39mUsers\u001b[39;49m\u001b[39m\\\u001b[39;49m\u001b[39mmi\u001b[39;49m\u001b[39m\\\u001b[39;49m\u001b[39mimages\u001b[39;49m\u001b[39m\\\u001b[39;49m\u001b[39mbenign\u001b[39;49m\u001b[39m'\u001b[39;49m,\u001b[39m224\u001b[39;49m,\u001b[39m1000\u001b[39;49m))\n\u001b[0;32m     20\u001b[0m malignant \u001b[39m=\u001b[39m np\u001b[39m.\u001b[39marray(Dataset_loader(\u001b[39mr\u001b[39m\u001b[39m'\u001b[39m\u001b[39mC:\u001b[39m\u001b[39m\\\u001b[39m\u001b[39mUsers\u001b[39m\u001b[39m\\\u001b[39m\u001b[39mmi\u001b[39m\u001b[39m\\\u001b[39m\u001b[39mimages\u001b[39m\u001b[39m\\\u001b[39m\u001b[39mmalignant\u001b[39m\u001b[39m'\u001b[39m,\u001b[39m224\u001b[39m,\u001b[39m1000\u001b[39m))\n\u001b[0;32m     21\u001b[0m benign_train, benign_test \u001b[39m=\u001b[39m np\u001b[39m.\u001b[39msplit(benign, [\u001b[39mint\u001b[39m(\u001b[39m0.67\u001b[39m \u001b[39m*\u001b[39m \u001b[39mlen\u001b[39m(benign))])\n",
      "Cell \u001b[1;32mIn[2], line 4\u001b[0m, in \u001b[0;36mDataset_loader\u001b[1;34m(DIR, RESIZE, limit)\u001b[0m\n\u001b[0;32m      2\u001b[0m IMG \u001b[39m=\u001b[39m []\n\u001b[0;32m      3\u001b[0m read \u001b[39m=\u001b[39m \u001b[39mlambda\u001b[39;00m imname: np\u001b[39m.\u001b[39masarray(cv2\u001b[39m.\u001b[39mcvtColor(cv2\u001b[39m.\u001b[39mimread(imname), cv2\u001b[39m.\u001b[39mCOLOR_BGR2RGB))\n\u001b[1;32m----> 4\u001b[0m \u001b[39mfor\u001b[39;00m (counter, IMAGE_NAME) \u001b[39min\u001b[39;00m \u001b[39menumerate\u001b[39m(tqdm(os\u001b[39m.\u001b[39;49mlistdir(DIR))):\n\u001b[0;32m      5\u001b[0m     PATH \u001b[39m=\u001b[39m os\u001b[39m.\u001b[39mpath\u001b[39m.\u001b[39mjoin(DIR,IMAGE_NAME)\n\u001b[0;32m      6\u001b[0m     _, ftype \u001b[39m=\u001b[39m os\u001b[39m.\u001b[39mpath\u001b[39m.\u001b[39msplitext(PATH)\n",
      "\u001b[1;31mFileNotFoundError\u001b[0m: [WinError 3] Системе не удается найти указанный путь: 'C:\\\\Users\\\\mi\\\\images\\\\benign'"
     ]
    }
   ],
   "source": [
    "def Dataset_loader(DIR, RESIZE, limit):\n",
    "    IMG = []\n",
    "    read = lambda imname: np.asarray(cv2.cvtColor(cv2.imread(imname), cv2.COLOR_BGR2RGB))\n",
    "    for (counter, IMAGE_NAME) in enumerate(tqdm(os.listdir(DIR))):\n",
    "        PATH = os.path.join(DIR,IMAGE_NAME)\n",
    "        _, ftype = os.path.splitext(PATH)\n",
    "        if ftype == \".JPG\":\n",
    "            # print(\"hello\")\n",
    "            img = read(PATH)\n",
    "           \n",
    "            img = cv2.resize(img, (RESIZE,RESIZE))\n",
    "           \n",
    "            IMG.append(np.array(img))\n",
    "        \n",
    "        # to balance the data\n",
    "        if counter == limit:\n",
    "            break\n",
    "    return IMG\n",
    "benign = np.array(Dataset_loader(r'C:\\Users\\mi\\images\\benign',224,1000))\n",
    "malignant = np.array(Dataset_loader(r'C:\\Users\\mi\\images\\malignant',224,1000))\n",
    "benign_train, benign_test = np.split(benign, [int(0.67 * len(benign))])\n",
    "malign_train, malign_test = np.split(malignant, [int(0.67 * len(malignant))])"
   ]
  },
  {
   "attachments": {},
   "cell_type": "markdown",
   "metadata": {},
   "source": [
    "# Save Variables Locally\n",
    "(will be used for model training and testing in classification.ipynb)"
   ]
  },
  {
   "cell_type": "code",
   "execution_count": null,
   "metadata": {},
   "outputs": [],
   "source": [
    "np.save('benign_train', benign_train)\n",
    "np.save('benign_test', benign_test)\n",
    "np.save('malign_train', malign_train)\n",
    "np.save('malign_test', malign_test)"
   ]
  }
 ],
 "metadata": {
  "kernelspec": {
   "display_name": "Python 3",
   "language": "python",
   "name": "python3"
  },
  "language_info": {
   "codemirror_mode": {
    "name": "ipython",
    "version": 3
   },
   "file_extension": ".py",
   "mimetype": "text/x-python",
   "name": "python",
   "nbconvert_exporter": "python",
   "pygments_lexer": "ipython3",
   "version": "3.11.0"
  },
  "orig_nbformat": 4,
  "vscode": {
   "interpreter": {
    "hash": "c261aea317cc0286b3b3261fbba9abdec21eaa57589985bb7a274bf54d6cc0a7"
   }
  }
 },
 "nbformat": 4,
 "nbformat_minor": 2
}
