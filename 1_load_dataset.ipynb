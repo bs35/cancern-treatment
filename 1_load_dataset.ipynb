{
 "cells": [
  {
   "cell_type": "code",
   "execution_count": 6,
   "metadata": {},
   "outputs": [],
   "source": [
    "import cv2\n",
    "import os\n",
    "from tqdm import tqdm\n",
    "import numpy as np"
   ]
  },
  {
   "attachments": {},
   "cell_type": "markdown",
   "metadata": {},
   "source": [
    "# Load & Process Dataset"
   ]
  },
  {
   "cell_type": "code",
   "execution_count": 7,
   "metadata": {},
   "outputs": [
    {
     "name": "stderr",
     "output_type": "stream",
     "text": [
      " 30%|███       | 12000/39857 [13:16<30:48, 15.07it/s] \n",
      "100%|██████████| 6107/6107 [02:16<00:00, 44.72it/s]\n"
     ]
    }
   ],
   "source": [
    "def Dataset_loader(DIR, RESIZE, sigmaX=10):\n",
    "    IMG = []\n",
    "    read = lambda imname: np.asarray(cv2.cvtColor(cv2.imread(imname), cv2.COLOR_BGR2RGB))\n",
    "    for (counter, IMAGE_NAME) in enumerate(tqdm(os.listdir(DIR))):\n",
    "        PATH = os.path.join(DIR,IMAGE_NAME)\n",
    "        _, ftype = os.path.splitext(PATH)\n",
    "        if ftype == \".JPG\":\n",
    "            # print(\"hello\")\n",
    "            img = read(PATH)\n",
    "           \n",
    "            img = cv2.resize(img, (RESIZE,RESIZE))\n",
    "           \n",
    "            IMG.append(np.array(img))\n",
    "        \n",
    "        # to balance the data\n",
    "        if counter == 6000:\n",
    "            break\n",
    "    return IMG\n",
    "# NOTE: Dataset_loader path assumes that both folders, cancern-treatment and images, are saved under /Users/\n",
    "# if this throws error, replace ../images/benign and ../images/malignant with location of folders in your computer\n",
    "benign = np.array(Dataset_loader('../images/benign',224))\n",
    "malignant = np.array(Dataset_loader('../images/malignant',224))\n",
    "benign_train, benign_test = np.split(benign, [int(0.67 * len(benign))])\n",
    "malign_train, malign_test = np.split(malignant, [int(0.67 * len(malignant))])"
   ]
  },
  {
   "attachments": {},
   "cell_type": "markdown",
   "metadata": {},
   "source": [
    "# Save Variables Locally\n",
    "(will be used for model training and testing in classification.ipynb)"
   ]
  },
  {
   "cell_type": "code",
   "execution_count": 8,
   "metadata": {},
   "outputs": [],
   "source": [
    "np.save('benign_train', benign_train)\n",
    "np.save('benign_test', benign_test)\n",
    "np.save('malign_train', malign_train)\n",
    "np.save('malign_test', malign_test)"
   ]
  }
 ],
 "metadata": {
  "kernelspec": {
   "display_name": "tensorflow-env",
   "language": "python",
   "name": "python3"
  },
  "language_info": {
   "codemirror_mode": {
    "name": "ipython",
    "version": 3
   },
   "file_extension": ".py",
   "mimetype": "text/x-python",
   "name": "python",
   "nbconvert_exporter": "python",
   "pygments_lexer": "ipython3",
   "version": "3.10.9"
  },
  "orig_nbformat": 4,
  "vscode": {
   "interpreter": {
    "hash": "f0f9eb9a9c40ed3ad386d197933395b924935cb84ea0faa53e09697e857cd80f"
   }
  }
 },
 "nbformat": 4,
 "nbformat_minor": 2
}
