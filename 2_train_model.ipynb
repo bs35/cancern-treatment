{
 "cells": [
  {
   "cell_type": "code",
   "execution_count": 16,
   "metadata": {},
   "outputs": [],
   "source": [
    "# pip3 instacll opencv-python sklearn matplotlib scikit-learn scipy\n",
    "# NOTE: if any error after installing with pip, use brew for Mac or conda for Windows\n",
    "import json\n",
    "import os\n",
    "import cv2\n",
    "from PIL import Image\n",
    "import numpy as np\n",
    "import tensorflow\n",
    "from keras import layers\n",
    "from keras.applications import ResNet50, MobileNet, DenseNet201, InceptionV3, NASNetLarge, InceptionResNetV2, NASNetMobile\n",
    "from keras.callbacks import Callback, ModelCheckpoint, ReduceLROnPlateau, TensorBoard\n",
    "from keras.preprocessing.image import ImageDataGenerator\n",
    "from keras.utils import to_categorical\n",
    "from keras.models import Sequential\n",
    "from keras.optimizers import Adam\n",
    "import matplotlib.pyplot as plt\n",
    "import pandas as pd\n",
    "from sklearn.model_selection import train_test_split\n",
    "from sklearn.metrics import cohen_kappa_score, accuracy_score\n",
    "import scipy\n",
    "from tqdm import tqdm\n",
    "from keras import backend as K\n",
    "import gc\n",
    "import tensorflow as tf\n",
    "from functools import partial\n",
    "from sklearn import metrics\n",
    "from collections import Counter\n",
    "import itertools\n",
    "%matplotlib inline"
   ]
  },
  {
   "cell_type": "markdown",
   "metadata": {},
   "source": [
    "# Loading & Preprocessing"
   ]
  },
  {
   "cell_type": "code",
   "execution_count": 17,
   "metadata": {},
   "outputs": [],
   "source": [
    "benign_train = np.load('/Users/macbook/cancern-treatment/benign_test.npy')\n",
    "benign_test = np.load('/Users/macbook/cancern-treatment/benign_test.npy')\n",
    "malign_train = np.load('/Users/macbook/cancern-treatment/malign_train.npy')\n",
    "malign_test = np.load('/Users/macbook/cancern-treatment/malign_test.npy')"
   ]
  },
  {
   "cell_type": "markdown",
   "metadata": {},
   "source": [
    "# Create Label"
   ]
  },
  {
   "cell_type": "code",
   "execution_count": 18,
   "metadata": {},
   "outputs": [],
   "source": [
    "benign_train_label = np.zeros(len(benign_train))\n",
    "malign_train_label = np.ones(len(malign_train))\n",
    "benign_test_label = np.zeros(len(benign_test))\n",
    "malign_test_label = np.ones(len(malign_test)) \n",
    "\n",
    "X_train = np.concatenate((benign_train, malign_train), axis = 0)\n",
    "Y_train = np.concatenate((benign_train_label, malign_train_label), axis = 0)\n",
    "X_test = np.concatenate((benign_test, malign_test), axis = 0)\n",
    "Y_test = np.concatenate((benign_test_label, malign_test_label), axis = 0)\n",
    "\n",
    "s = np.arange(X_train.shape[0])\n",
    "np.random.shuffle(s)\n",
    "X_train = X_train[s]\n",
    "Y_train = Y_train[s]\n",
    "\n",
    "s = np.arange(X_test.shape[0])\n",
    "np.random.shuffle(s)\n",
    "X_test = X_test[s]\n",
    "Y_test = Y_test[s]\n",
    "\n",
    "Y_train = to_categorical(Y_train, num_classes= 2)\n",
    "Y_test = to_categorical(Y_test, num_classes= 2)"
   ]
  },
  {
   "cell_type": "code",
   "execution_count": 19,
   "metadata": {},
   "outputs": [
    {
     "name": "stdout",
     "output_type": "stream",
     "text": [
      "Stored 'X_train' (ndarray)\n",
      "Stored 'X_test' (ndarray)\n",
      "Stored 'Y_train' (ndarray)\n",
      "Stored 'Y_test' (ndarray)\n"
     ]
    }
   ],
   "source": [
    "%store X_test Y_test "
   ]
  },
  {
   "cell_type": "markdown",
   "metadata": {},
   "source": [
    "# Train and Evalutation split"
   ]
  },
  {
   "cell_type": "code",
   "execution_count": 20,
   "metadata": {},
   "outputs": [],
   "source": [
    "x_train, x_val, y_train, y_val = train_test_split(\n",
    "    X_train, Y_train, \n",
    "    test_size=0.2, \n",
    "    random_state=11\n",
    ")"
   ]
  },
  {
   "cell_type": "code",
   "execution_count": 21,
   "metadata": {},
   "outputs": [
    {
     "name": "stdout",
     "output_type": "stream",
     "text": [
      "Stored 'x_train' (ndarray)\n",
      "Stored 'x_val' (ndarray)\n",
      "Stored 'y_train' (ndarray)\n",
      "Stored 'y_val' (ndarray)\n"
     ]
    }
   ],
   "source": [
    "%store x_val y_val "
   ]
  },
  {
   "cell_type": "markdown",
   "metadata": {},
   "source": [
    "# Data Generator"
   ]
  },
  {
   "cell_type": "code",
   "execution_count": 22,
   "metadata": {},
   "outputs": [],
   "source": [
    "BATCH_SIZE = 64\n",
    "\n",
    "train_generator = ImageDataGenerator(\n",
    "        zoom_range=2, \n",
    "        rotation_range = 90,\n",
    "        horizontal_flip=True, \n",
    "        vertical_flip=True, \n",
    "    )"
   ]
  },
  {
   "cell_type": "markdown",
   "metadata": {},
   "source": [
    "# Model: ResNet50"
   ]
  },
  {
   "cell_type": "code",
   "execution_count": 23,
   "metadata": {},
   "outputs": [],
   "source": [
    "def build_model(backbone, lr=5e-4):\n",
    "    model = Sequential()\n",
    "    model.add(backbone)\n",
    "    model.add(layers.GlobalAveragePooling2D())\n",
    "    model.add(layers.Dropout(0.5))\n",
    "    model.add(layers.BatchNormalization())\n",
    "    model.add(layers.Dense(2, activation='softmax'))\n",
    "    \n",
    "    \n",
    "    model.compile(\n",
    "        loss='binary_crossentropy',\n",
    "        optimizer=Adam(lr=lr),\n",
    "        metrics=['accuracy']\n",
    "    )\n",
    "    \n",
    "    return model"
   ]
  },
  {
   "cell_type": "code",
   "execution_count": 24,
   "metadata": {},
   "outputs": [
    {
     "name": "stdout",
     "output_type": "stream",
     "text": [
      "Model: \"sequential\"\n",
      "_________________________________________________________________\n",
      " Layer (type)                Output Shape              Param #   \n",
      "=================================================================\n",
      " resnet50 (Functional)       (None, 7, 7, 2048)        23587712  \n",
      "                                                                 \n",
      " global_average_pooling2d (G  (None, 2048)             0         \n",
      " lobalAveragePooling2D)                                          \n",
      "                                                                 \n",
      " dropout (Dropout)           (None, 2048)              0         \n",
      "                                                                 \n",
      " batch_normalization (BatchN  (None, 2048)             8192      \n",
      " ormalization)                                                   \n",
      "                                                                 \n",
      " dense (Dense)               (None, 2)                 4098      \n",
      "                                                                 \n",
      "=================================================================\n",
      "Total params: 23,600,002\n",
      "Trainable params: 23,542,786\n",
      "Non-trainable params: 57,216\n",
      "_________________________________________________________________\n"
     ]
    },
    {
     "name": "stderr",
     "output_type": "stream",
     "text": [
      "/Users/macbook/miniforge3/envs/tensorflow/lib/python3.10/site-packages/keras/optimizers/optimizer_v2/adam.py:114: UserWarning: The `lr` argument is deprecated, use `learning_rate` instead.\n",
      "  super().__init__(name, **kwargs)\n"
     ]
    }
   ],
   "source": [
    "from keras import backend as K\n",
    "import gc\n",
    "from keras.applications import ResNet50\n",
    "\n",
    "K.clear_session()\n",
    "gc.collect()\n",
    "\n",
    "resnet = ResNet50(\n",
    "    weights='imagenet',\n",
    "    include_top=False,\n",
    "    input_shape=(224,224,3)\n",
    ")\n",
    "\n",
    "model = build_model(resnet ,lr = 1e-4)\n",
    "model.summary()"
   ]
  },
  {
   "cell_type": "code",
   "execution_count": 25,
   "metadata": {},
   "outputs": [],
   "source": [
    "from keras.callbacks import Callback, ModelCheckpoint, ReduceLROnPlateau\n",
    "learn_control = ReduceLROnPlateau(monitor='val_accuracy', patience=5,\n",
    "                                  verbose=1,factor=0.2, min_lr=1e-7)\n",
    "\n",
    "filepath=\"best_weights\"\n",
    "checkpoint = ModelCheckpoint(filepath, save_weights_only=True, monitor='val_accuracy', verbose=1, save_best_only=True, mode='max')"
   ]
  },
  {
   "cell_type": "markdown",
   "metadata": {},
   "source": [
    "# Training & Evaluation"
   ]
  },
  {
   "cell_type": "code",
   "execution_count": 26,
   "metadata": {},
   "outputs": [
    {
     "name": "stdout",
     "output_type": "stream",
     "text": [
      "Epoch 1/10\n"
     ]
    },
    {
     "name": "stderr",
     "output_type": "stream",
     "text": [
      "2023-02-13 12:20:45.965537: I tensorflow/core/grappler/optimizers/custom_graph_optimizer_registry.cc:114] Plugin optimizer for device_type GPU is enabled.\n"
     ]
    },
    {
     "name": "stdout",
     "output_type": "stream",
     "text": [
      "75/75 [==============================] - ETA: 0s - loss: 0.4966 - accuracy: 0.7971"
     ]
    },
    {
     "name": "stderr",
     "output_type": "stream",
     "text": [
      "2023-02-13 12:21:59.661724: I tensorflow/core/grappler/optimizers/custom_graph_optimizer_registry.cc:114] Plugin optimizer for device_type GPU is enabled.\n"
     ]
    },
    {
     "name": "stdout",
     "output_type": "stream",
     "text": [
      "\n",
      "Epoch 1: val_accuracy improved from -inf to 0.56583, saving model to best_weights\n",
      "75/75 [==============================] - 1085s 15s/step - loss: 0.4966 - accuracy: 0.7971 - val_loss: 14.3609 - val_accuracy: 0.5658 - lr: 1.0000e-04\n",
      "Epoch 2/10\n",
      "75/75 [==============================] - ETA: 0s - loss: 0.3798 - accuracy: 0.8471 \n",
      "Epoch 2: val_accuracy improved from 0.56583 to 0.73500, saving model to best_weights\n",
      "75/75 [==============================] - 1068s 14s/step - loss: 0.3798 - accuracy: 0.8471 - val_loss: 6.2104 - val_accuracy: 0.7350 - lr: 1.0000e-04\n",
      "Epoch 3/10\n",
      "75/75 [==============================] - ETA: 0s - loss: 0.3730 - accuracy: 0.8508 \n",
      "Epoch 3: val_accuracy improved from 0.73500 to 0.82833, saving model to best_weights\n",
      "75/75 [==============================] - 932s 13s/step - loss: 0.3730 - accuracy: 0.8508 - val_loss: 1.0550 - val_accuracy: 0.8283 - lr: 1.0000e-04\n",
      "Epoch 4/10\n",
      "75/75 [==============================] - ETA: 0s - loss: 0.3532 - accuracy: 0.8573\n",
      "Epoch 4: val_accuracy improved from 0.82833 to 0.87333, saving model to best_weights\n",
      "75/75 [==============================] - 73s 969ms/step - loss: 0.3532 - accuracy: 0.8573 - val_loss: 0.3990 - val_accuracy: 0.8733 - lr: 1.0000e-04\n",
      "Epoch 5/10\n",
      "75/75 [==============================] - ETA: 0s - loss: 0.3265 - accuracy: 0.8604\n",
      "Epoch 5: val_accuracy did not improve from 0.87333\n",
      "75/75 [==============================] - 71s 943ms/step - loss: 0.3265 - accuracy: 0.8604 - val_loss: 0.3575 - val_accuracy: 0.8517 - lr: 1.0000e-04\n",
      "Epoch 6/10\n",
      "75/75 [==============================] - ETA: 0s - loss: 0.3246 - accuracy: 0.8675\n",
      "Epoch 6: val_accuracy improved from 0.87333 to 0.88583, saving model to best_weights\n",
      "75/75 [==============================] - 72s 954ms/step - loss: 0.3246 - accuracy: 0.8675 - val_loss: 0.3379 - val_accuracy: 0.8858 - lr: 1.0000e-04\n",
      "Epoch 7/10\n",
      "75/75 [==============================] - ETA: 0s - loss: 0.3194 - accuracy: 0.8719\n",
      "Epoch 7: val_accuracy did not improve from 0.88583\n",
      "75/75 [==============================] - 71s 936ms/step - loss: 0.3194 - accuracy: 0.8719 - val_loss: 0.3684 - val_accuracy: 0.8725 - lr: 1.0000e-04\n",
      "Epoch 8/10\n",
      "75/75 [==============================] - ETA: 0s - loss: 0.3130 - accuracy: 0.8700\n",
      "Epoch 8: val_accuracy did not improve from 0.88583\n",
      "75/75 [==============================] - 71s 937ms/step - loss: 0.3130 - accuracy: 0.8700 - val_loss: 0.3029 - val_accuracy: 0.8833 - lr: 1.0000e-04\n",
      "Epoch 9/10\n",
      "75/75 [==============================] - ETA: 0s - loss: 0.3118 - accuracy: 0.8727\n",
      "Epoch 9: val_accuracy did not improve from 0.88583\n",
      "75/75 [==============================] - 71s 940ms/step - loss: 0.3118 - accuracy: 0.8727 - val_loss: 0.3788 - val_accuracy: 0.8433 - lr: 1.0000e-04\n",
      "Epoch 10/10\n",
      "75/75 [==============================] - ETA: 0s - loss: 0.3074 - accuracy: 0.8719\n",
      "Epoch 10: val_accuracy did not improve from 0.88583\n",
      "75/75 [==============================] - 71s 949ms/step - loss: 0.3074 - accuracy: 0.8719 - val_loss: 0.3050 - val_accuracy: 0.8800 - lr: 1.0000e-04\n"
     ]
    }
   ],
   "source": [
    "history = model.fit(\n",
    "    train_generator.flow(x_train, y_train, batch_size=BATCH_SIZE),\n",
    "    steps_per_epoch=x_train.shape[0] / BATCH_SIZE,\n",
    "    epochs=1,\n",
    "    validation_data=(x_val, y_val),\n",
    "    callbacks=[learn_control, checkpoint]\n",
    ")"
   ]
  },
  {
   "attachments": {},
   "cell_type": "markdown",
   "metadata": {},
   "source": [
    "# Save Trained Model\n",
    "(to re-use later in another .ipynb)"
   ]
  },
  {
   "cell_type": "code",
   "execution_count": 31,
   "metadata": {},
   "outputs": [],
   "source": [
    "np.save('history.npy',history.history)\n",
    "model.save('cancer_pretrained_model.h5')\n"
   ]
  },
  {
   "cell_type": "code",
   "execution_count": 28,
   "metadata": {},
   "outputs": [],
   "source": [
    "with open('history.json', 'w') as f:\n",
    "    json.dump(str(history.history), f)"
   ]
  },
  {
   "cell_type": "code",
   "execution_count": 29,
   "metadata": {},
   "outputs": [
    {
     "data": {
      "text/plain": [
       "<AxesSubplot: >"
      ]
     },
     "execution_count": 29,
     "metadata": {},
     "output_type": "execute_result"
    },
    {
     "data": {
      "image/png": "[encoded data removed]",
      "text/plain": [
       "<Figure size 640x480 with 1 Axes>"
      ]
     },
     "metadata": {},
     "output_type": "display_data"
    }
   ],
   "source": [
    "history_df = pd.DataFrame(history.history)\n",
    "history_df[['accuracy', 'val_accuracy']].plot()"
   ]
  },
  {
   "cell_type": "code",
   "execution_count": 30,
   "metadata": {},
   "outputs": [
    {
     "data": {
      "text/plain": [
       "<AxesSubplot: >"
      ]
     },
     "execution_count": 30,
     "metadata": {},
     "output_type": "execute_result"
    },
    {
     "data": {
      "image/png": "[encoded data removed]",
      "text/plain": [
       "<Figure size 640x480 with 1 Axes>"
      ]
     },
     "metadata": {},
     "output_type": "display_data"
    }
   ],
   "source": [
    "history_df = pd.DataFrame(history.history)\n",
    "history_df[['loss', 'val_loss']].plot()"
   ]
  }
 ],
 "metadata": {
  "kernelspec": {
   "display_name": "Python 3.10 (tensorflow)",
   "language": "python",
   "name": "tensorflow"
  },
  "language_info": {
   "codemirror_mode": {
    "name": "ipython",
    "version": 3
   },
   "file_extension": ".py",
   "mimetype": "text/x-python",
   "name": "python",
   "nbconvert_exporter": "python",
   "pygments_lexer": "ipython3",
   "version": "3.10.9"
  },
  "orig_nbformat": 4,
  "vscode": {
   "interpreter": {
    "hash": "d752183bbd663fce04987ddc9e4cca1214400e09fcf5c0827cee201c36a78cd8"
   }
  }
 },
 "nbformat": 4,
 "nbformat_minor": 2
}
